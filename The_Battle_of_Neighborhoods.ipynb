{
 "cells": [
  {
   "cell_type": "markdown",
   "metadata": {},
   "source": [
    "<h1 align=center><font size = 5>IBM capstone project</font></h1>"
   ]
  },
  {
   "cell_type": "markdown",
   "metadata": {},
   "source": [
    "## Introduction\n",
    "#### <i>Go shopping and dining in a city that I am going for vacation</i>  \n",
    "It's exciting to go somewhere completely new for vacation, but you don't get around knowing where to do what as easily as the locals do. If you happen to have a friend who lives there, what would be the top 3 questions you ask? To me: Where can I have good Asian/Italian/Mexican... food? Where can I go shopping? And in case of emergency (you know), where can I find pharmacy stores? Tourist websites usually have good information about attractions while yelp tells you specific locations to find specific venues, but nothing generic. Won't that be nice if there is a map to tell you what to expect in the city and narrow down your search options?"
   ]
  },
  {
   "cell_type": "markdown",
   "metadata": {},
   "source": [
    "### Solution  \n",
    "#### <i>Get venue information based on zip codes</i>\n",
    "Find all venues within 1km radius of the center of a zipcode region (varies depending on how close they are from each other), and filter the data based on the categories. Next, vizulize the distribution of each categories on the map. Finally, culster the locaitons based on the type of restaraunts and show what kind of foods are most popular in different regions of a city. The database we used here are: 1.uszipcode for coordinates 2.Foursquare for venue information"
   ]
  },
  {
   "cell_type": "code",
   "execution_count": 273,
   "metadata": {},
   "outputs": [
    {
     "name": "stdout",
     "output_type": "stream",
     "text": [
      "Libraries imported.\n"
     ]
    }
   ],
   "source": [
    "import warnings\n",
    "warnings.filterwarnings('ignore')\n",
    "\n",
    "import random # library for random number generation\n",
    "import numpy as np # library for vectorized computation\n",
    "import pandas as pd # library to process data as dataframes\n",
    "\n",
    "import matplotlib.pyplot as plt # plotting library\n",
    "# backend for rendering plots within the browser\n",
    "%matplotlib inline \n",
    "\n",
    "import json # library to handle JSON files\n",
    "\n",
    "from uszipcode import SearchEngine\n",
    "# Search zipcode for coordinates and county names   \n",
    "\n",
    "import requests # library to handle requests\n",
    "from pandas.io.json import json_normalize # tranform JSON file into a pandas dataframe\n",
    "\n",
    "# Matplotlib and associated plotting modules\n",
    "import matplotlib.cm as cm\n",
    "import matplotlib.colors as colors\n",
    "import seaborn as sns\n",
    "from IPython.display import IFrame\n",
    "\n",
    "# import PCA and hierarchy functions from clustering stage\n",
    "from sklearn.decomposition import PCA\n",
    "from scipy.cluster.hierarchy import dendrogram, linkage,cut_tree  \n",
    "\n",
    "\n",
    "import folium # map rendering library\n",
    "\n",
    "print('Libraries imported.')"
   ]
  },
  {
   "cell_type": "code",
   "execution_count": 148,
   "metadata": {},
   "outputs": [],
   "source": [
    "### Define Foursquare Credentials and Version"
   ]
  },
  {
   "cell_type": "code",
   "execution_count": null,
   "metadata": {},
   "outputs": [],
   "source": [
    "CLIENT_ID =  # your Foursquare ID\n",
    "CLIENT_SECRET =  # your Foursquare Secret\n",
    "VERSION = '20180604'\n",
    "LIMIT = 100\n",
    "\n",
    "print('Your credentails:')\n",
    "print('CLIENT_ID: ' + CLIENT_ID)\n",
    "print('CLIENT_SECRET:' + CLIENT_SECRET)"
   ]
  },
  {
   "cell_type": "markdown",
   "metadata": {},
   "source": [
    "#### Step one, find target location of interest"
   ]
  },
  {
   "cell_type": "code",
   "execution_count": 90,
   "metadata": {},
   "outputs": [],
   "source": [
    "# Get coordinates for all zip code regions in target city\n",
    "def get_cor(postal_code):\n",
    "    search = SearchEngine(simple_zipcode=True)\n",
    "    zipcode = search.by_zipcode(str(postal_code))\n",
    "    return [postal_code,zipcode.major_city,zipcode.lat,zipcode.lng]\n",
    "\n",
    "# zipcode list - use NYC as example\n",
    "zip_codes = np.arange(10012,10128)\n",
    "df_locations = pd.DataFrame([get_cor(postal_code) for postal_code in zip_codes],columns=['Zipcode','Region','Lat','Lng']).set_index('Zipcode').dropna(axis = 0) "
   ]
  },
  {
   "cell_type": "code",
   "execution_count": 149,
   "metadata": {},
   "outputs": [],
   "source": [
    "# create map of the city interest using latitude and longitude values for each zip code\n",
    "# Using New York city as an example\n",
    "map_city = folium.Map(location=[df_locations.Lat.mean(), df_locations.Lng.mean()], zoom_start=10,tiles = 'OpenStreetMap')\n",
    "\n",
    "# add markers to map\n",
    "for lat, lng, region in zip(df_locations['Lat'], df_locations['Lng'], df_locations['Region']):\n",
    "    label = '{}'.format(region)\n",
    "    label = folium.Popup(label, parse_html=True)\n",
    "    folium.CircleMarker(\n",
    "        [lat, lng],\n",
    "        radius=3,\n",
    "        popup=label,\n",
    "        color='',\n",
    "        fill=True,\n",
    "        fill_color='blue',\n",
    "        fill_opacity=0.7,\n",
    "        parse_html=True).add_to(map_city)  \n",
    "    \n",
    "map_city.save('NYC_overview.html')"
   ]
  },
  {
   "cell_type": "code",
   "execution_count": 274,
   "metadata": {},
   "outputs": [
    {
     "data": {
      "text/html": [
       "\n",
       "        <iframe\n",
       "            width=\"600\"\n",
       "            height=\"600\"\n",
       "            src=\"NYC_overview.html\"\n",
       "            frameborder=\"0\"\n",
       "            allowfullscreen\n",
       "        ></iframe>\n",
       "        "
      ],
      "text/plain": [
       "<IPython.lib.display.IFrame at 0x1a3f207240>"
      ]
     },
     "execution_count": 274,
     "metadata": {},
     "output_type": "execute_result"
    }
   ],
   "source": [
    "IFrame(src='NYC_overview.html',height=600, width=600)"
   ]
  },
  {
   "cell_type": "code",
   "execution_count": 150,
   "metadata": {},
   "outputs": [],
   "source": [
    "# Use the function from week3 to get nearby venues for each Postcode\n",
    "def getNearbyVenues(names, latitudes, longitudes, radius=1000):\n",
    "    \n",
    "    venues_list=[]\n",
    "    for name, lat, lng in zip(names, latitudes, longitudes):\n",
    "        # print(name)\n",
    "            \n",
    "        # create the API request URL\n",
    "        url = 'https://api.foursquare.com/v2/venues/explore?&client_id={}&client_secret={}&v={}&ll={},{}&radius={}&limit={}'.format(\n",
    "            CLIENT_ID, \n",
    "            CLIENT_SECRET, \n",
    "            VERSION, \n",
    "            lat, \n",
    "            lng, \n",
    "            radius, \n",
    "            LIMIT)\n",
    "            \n",
    "        # make the GET request\n",
    "        results = requests.get(url).json()[\"response\"]['groups'][0]['items']\n",
    "        \n",
    "        # return only relevant information for each nearby venue\n",
    "        venues_list.append([(\n",
    "            name, \n",
    "            lat, \n",
    "            lng, \n",
    "            v['venue']['name'], \n",
    "            v['venue']['location']['lat'], \n",
    "            v['venue']['location']['lng'],  \n",
    "            v['venue']['categories'][0]['name']) for v in results])\n",
    "\n",
    "    nearby_venues = pd.DataFrame([item for venue_list in venues_list for item in venue_list])\n",
    "    nearby_venues.columns = ['Postcode', \n",
    "                  'Neighborhood Latitude', \n",
    "                  'Neighborhood Longitude', \n",
    "                  'Venue', \n",
    "                  'Venue Latitude', \n",
    "                  'Venue Longitude', \n",
    "                  'Venue Category']\n",
    "    \n",
    "    return(nearby_venues)"
   ]
  },
  {
   "cell_type": "code",
   "execution_count": 92,
   "metadata": {},
   "outputs": [],
   "source": [
    "Venues = getNearbyVenues(df_locations.index, df_locations.Lat, df_locations.Lng, radius=1000)"
   ]
  },
  {
   "cell_type": "markdown",
   "metadata": {},
   "source": [
    "#### Summarize venues into 5 categories of interest:\n",
    "1. Food - Any venues that are food related but are not restaurants; \n",
    "2. Restaurants; \n",
    "3. Shops - small individual ones; \n",
    "4. Pharmacy stores; \n",
    "5. Shopping_malls"
   ]
  },
  {
   "cell_type": "code",
   "execution_count": 99,
   "metadata": {},
   "outputs": [],
   "source": [
    "# Filter and reorganize the query result for analysis\n",
    "Food_category = ['Coffee Shop', 'Ice Cream Shop','Donut Shop','Dessert Shop','Frozen Yogurt Shop', 'Bubble Tea Shop',' Cupcake Shop'\n",
    "'Pizza Place', 'Sandwich Place', 'Taco Place', 'Salad Place','Poke Place', 'Snack Place', 'Burrito Place']\n",
    "Restaurant_category = Venues[Venues['Venue Category'].str.contains('Restaurant')]['Venue Category']\n",
    "Shopping_category = Venues[Venues['Venue Category'].str.contains('Shop')]['Venue Category']\n",
    "\n",
    "Pharmacy_category = Venues[Venues['Venue Category'].str.contains('Pharmacy')]['Venue Category']\n",
    "Shopping_mall_category = ['Shopping Mall']"
   ]
  },
  {
   "cell_type": "code",
   "execution_count": 102,
   "metadata": {},
   "outputs": [],
   "source": [
    "# Count the number of categories in each loaciton\n",
    "Food_count = Venues[Venues['Venue Category'].apply(lambda x:x in Food_category)].groupby('Postcode')['Venue Category'].nunique()\n",
    "Restaurant_count = Venues[Venues['Venue Category'].apply(lambda x:x in list(Restaurant_category))].groupby('Postcode')['Venue Category'].nunique()\n",
    "Shopping_count = Venues[Venues['Venue Category'].apply(lambda x:x in list(Shopping_category))].groupby('Postcode')['Venue Category'].nunique()\n",
    "Pharmacy_list = Venues[Venues['Venue Category'].apply(lambda x:x in list(Pharmacy_category))]\n",
    "Shopping_list = Venues[Venues['Venue Category'].apply(lambda x:x in list(Shopping_mall_category))]\n",
    "df_count = pd.DataFrame([Food_count,Restaurant_count,Shopping_count]).fillna(0).T.astype(int)\n",
    "df_count.columns = ['Food','Restaurant','Shopping']\n",
    "df_count['Total'] = df_count.sum(axis = 1)"
   ]
  },
  {
   "cell_type": "code",
   "execution_count": 106,
   "metadata": {},
   "outputs": [],
   "source": [
    "# Merge data \n",
    "df_map =  df_locations.merge(df_count,left_index = True,right_index=True)"
   ]
  },
  {
   "cell_type": "markdown",
   "metadata": {},
   "source": [
    "##### Visulize category food, node size shows the number of venues"
   ]
  },
  {
   "cell_type": "code",
   "execution_count": 267,
   "metadata": {},
   "outputs": [],
   "source": [
    "\n",
    "map_city = folium.Map(location=[df_map.Lat.mean(), df_map.Lng.mean()], zoom_start=10,tiles = 'OpenStreetMap',width=500,height=500)\n",
    "\n",
    "# add markers to map\n",
    "for lat, lng, region,size in zip(df_map['Lat'], df_map['Lng'], df_map['Region'],df_map['Food']):\n",
    "    label = '{}'.format(region)\n",
    "    label = folium.Popup(label, parse_html=True)\n",
    "    folium.CircleMarker(\n",
    "        [lat, lng],\n",
    "        radius=size,\n",
    "        popup=label,\n",
    "        color='',\n",
    "        fill=True,\n",
    "        fill_color='blue',\n",
    "        fill_opacity=0.7,\n",
    "        parse_html=True).add_to(map_city)  \n",
    "\n",
    "map_city.save('NYC_food.html')"
   ]
  },
  {
   "cell_type": "code",
   "execution_count": 275,
   "metadata": {},
   "outputs": [
    {
     "data": {
      "text/html": [
       "\n",
       "        <iframe\n",
       "            width=\"600\"\n",
       "            height=\"600\"\n",
       "            src=\"NYC_food.html\"\n",
       "            frameborder=\"0\"\n",
       "            allowfullscreen\n",
       "        ></iframe>\n",
       "        "
      ],
      "text/plain": [
       "<IPython.lib.display.IFrame at 0x1a3f6e6eb8>"
      ]
     },
     "execution_count": 275,
     "metadata": {},
     "output_type": "execute_result"
    }
   ],
   "source": [
    "IFrame(src='NYC_food.html',height=600, width=600)"
   ]
  },
  {
   "cell_type": "markdown",
   "metadata": {},
   "source": [
    "##### Visulize category restaurant, node size shows the number of venues"
   ]
  },
  {
   "cell_type": "code",
   "execution_count": 268,
   "metadata": {},
   "outputs": [],
   "source": [
    "map_city = folium.Map(location=[df_map.Lat.mean(), df_map.Lng.mean()], zoom_start=10,tiles = 'OpenStreetMap',width=500,height=500)\n",
    "\n",
    "# add markers to map\n",
    "for lat, lng, region,size in zip(df_map['Lat'], df_map['Lng'], df_map['Region'],df_map['Restaurant']):\n",
    "    label = '{}'.format(region)\n",
    "    label = folium.Popup(label, parse_html=True)\n",
    "    folium.CircleMarker(\n",
    "        [lat, lng],\n",
    "        radius=size,\n",
    "        popup=label,\n",
    "        color='',\n",
    "        fill=True,\n",
    "        fill_color='red',\n",
    "        fill_opacity=0.7,\n",
    "        parse_html=True).add_to(map_city)  \n",
    "\n",
    "map_city.save('NYC_restaurant.html')"
   ]
  },
  {
   "cell_type": "code",
   "execution_count": 276,
   "metadata": {},
   "outputs": [
    {
     "data": {
      "text/html": [
       "\n",
       "        <iframe\n",
       "            width=\"600\"\n",
       "            height=\"600\"\n",
       "            src=\"NYC_restaurant.html\"\n",
       "            frameborder=\"0\"\n",
       "            allowfullscreen\n",
       "        ></iframe>\n",
       "        "
      ],
      "text/plain": [
       "<IPython.lib.display.IFrame at 0x1a3fc06dd8>"
      ]
     },
     "execution_count": 276,
     "metadata": {},
     "output_type": "execute_result"
    }
   ],
   "source": [
    "IFrame(src='NYC_restaurant.html',height=600, width=600)"
   ]
  },
  {
   "cell_type": "markdown",
   "metadata": {},
   "source": [
    "##### Visulize all shops, and mark shopping malls and pharmacy stores"
   ]
  },
  {
   "cell_type": "code",
   "execution_count": 269,
   "metadata": {},
   "outputs": [],
   "source": [
    "map_city = folium.Map(location=[df_map.Lat.mean(), df_map.Lng.mean()], zoom_start=10,tiles = 'OpenStreetMap',width=600,height=600)\n",
    "\n",
    "# add markers to map\n",
    "for lat, lng, region,size in zip(df_map['Lat'], df_map['Lng'], df_map['Region'],df_map['Shopping']):\n",
    "    label = '{}'.format(region)\n",
    "    label = folium.Popup(label, parse_html=True)\n",
    "    folium.CircleMarker(\n",
    "        [lat, lng],\n",
    "        radius=size,\n",
    "        popup=label,\n",
    "        color='',\n",
    "        fill=True,\n",
    "        fill_color='green',\n",
    "        fill_opacity=0.7,\n",
    "        parse_html=True).add_to(map_city)  \n",
    "\n",
    "\n",
    "for lat, lng, venue in zip(Pharmacy_list['Venue Latitude'], Pharmacy_list['Venue Longitude'], Pharmacy_list['Venue']):\n",
    "    label = '{}'.format(venue)\n",
    "    label = folium.Popup(label, parse_html=False)\n",
    "    folium.Marker(\n",
    "        [lat, lng],\n",
    "        icon=folium.features.CustomIcon('http://icons.iconarchive.com/icons/icojam/onebit/48/red-cross-icon.png',icon_size=(15,15))\n",
    "        ).add_to(map_city)  \n",
    "\n",
    "\n",
    "for lat, lng, venue in zip(Shopping_list['Venue Latitude'], Shopping_list['Venue Longitude'], Shopping_list['Venue']):\n",
    "    label = '{}'.format(venue)\n",
    "    label = folium.Popup(label, parse_html=False)\n",
    "    folium.Marker(\n",
    "        [lat, lng],\n",
    "        icon=folium.features.CustomIcon('https://img.icons8.com/android/1600/shopping-cart.png',icon_size=(20,20))\n",
    "        ).add_to(map_city)      \n",
    "    \n",
    "    \n",
    "map_city.save('NYC_mixed.html')"
   ]
  },
  {
   "cell_type": "code",
   "execution_count": 277,
   "metadata": {},
   "outputs": [
    {
     "data": {
      "text/html": [
       "\n",
       "        <iframe\n",
       "            width=\"600\"\n",
       "            height=\"600\"\n",
       "            src=\"NYC_mixed.html\"\n",
       "            frameborder=\"0\"\n",
       "            allowfullscreen\n",
       "        ></iframe>\n",
       "        "
      ],
      "text/plain": [
       "<IPython.lib.display.IFrame at 0x1a3fda0c18>"
      ]
     },
     "execution_count": 277,
     "metadata": {},
     "output_type": "execute_result"
    }
   ],
   "source": [
    "IFrame(src='NYC_mixed.html',height=600, width=600)"
   ]
  },
  {
   "cell_type": "code",
   "execution_count": 110,
   "metadata": {},
   "outputs": [],
   "source": [
    "df_Restaurant = Venues[Venues['Venue Category'].apply(lambda x:x in list(Restaurant_category))]"
   ]
  },
  {
   "cell_type": "code",
   "execution_count": 111,
   "metadata": {},
   "outputs": [
    {
     "data": {
      "text/html": [
       "<div>\n",
       "<style scoped>\n",
       "    .dataframe tbody tr th:only-of-type {\n",
       "        vertical-align: middle;\n",
       "    }\n",
       "\n",
       "    .dataframe tbody tr th {\n",
       "        vertical-align: top;\n",
       "    }\n",
       "\n",
       "    .dataframe thead th {\n",
       "        text-align: right;\n",
       "    }\n",
       "</style>\n",
       "<table border=\"1\" class=\"dataframe\">\n",
       "  <thead>\n",
       "    <tr style=\"text-align: right;\">\n",
       "      <th></th>\n",
       "      <th>African Restaurant</th>\n",
       "      <th>American Restaurant</th>\n",
       "      <th>Arepa Restaurant</th>\n",
       "      <th>Asian Restaurant</th>\n",
       "      <th>Australian Restaurant</th>\n",
       "      <th>Austrian Restaurant</th>\n",
       "      <th>Brazilian Restaurant</th>\n",
       "      <th>Cambodian Restaurant</th>\n",
       "      <th>Caribbean Restaurant</th>\n",
       "      <th>Chinese Restaurant</th>\n",
       "      <th>...</th>\n",
       "      <th>Sushi Restaurant</th>\n",
       "      <th>Szechuan Restaurant</th>\n",
       "      <th>Taiwanese Restaurant</th>\n",
       "      <th>Tapas Restaurant</th>\n",
       "      <th>Thai Restaurant</th>\n",
       "      <th>Theme Restaurant</th>\n",
       "      <th>Turkish Restaurant</th>\n",
       "      <th>Vegetarian / Vegan Restaurant</th>\n",
       "      <th>Venezuelan Restaurant</th>\n",
       "      <th>Vietnamese Restaurant</th>\n",
       "    </tr>\n",
       "    <tr>\n",
       "      <th>Postcode</th>\n",
       "      <th></th>\n",
       "      <th></th>\n",
       "      <th></th>\n",
       "      <th></th>\n",
       "      <th></th>\n",
       "      <th></th>\n",
       "      <th></th>\n",
       "      <th></th>\n",
       "      <th></th>\n",
       "      <th></th>\n",
       "      <th></th>\n",
       "      <th></th>\n",
       "      <th></th>\n",
       "      <th></th>\n",
       "      <th></th>\n",
       "      <th></th>\n",
       "      <th></th>\n",
       "      <th></th>\n",
       "      <th></th>\n",
       "      <th></th>\n",
       "      <th></th>\n",
       "    </tr>\n",
       "  </thead>\n",
       "  <tbody>\n",
       "    <tr>\n",
       "      <th>10012</th>\n",
       "      <td>0</td>\n",
       "      <td>1</td>\n",
       "      <td>0</td>\n",
       "      <td>0</td>\n",
       "      <td>1</td>\n",
       "      <td>0</td>\n",
       "      <td>0</td>\n",
       "      <td>0</td>\n",
       "      <td>1</td>\n",
       "      <td>0</td>\n",
       "      <td>...</td>\n",
       "      <td>2</td>\n",
       "      <td>0</td>\n",
       "      <td>0</td>\n",
       "      <td>1</td>\n",
       "      <td>2</td>\n",
       "      <td>0</td>\n",
       "      <td>0</td>\n",
       "      <td>0</td>\n",
       "      <td>0</td>\n",
       "      <td>1</td>\n",
       "    </tr>\n",
       "    <tr>\n",
       "      <th>10013</th>\n",
       "      <td>0</td>\n",
       "      <td>4</td>\n",
       "      <td>0</td>\n",
       "      <td>2</td>\n",
       "      <td>1</td>\n",
       "      <td>0</td>\n",
       "      <td>0</td>\n",
       "      <td>0</td>\n",
       "      <td>0</td>\n",
       "      <td>1</td>\n",
       "      <td>...</td>\n",
       "      <td>3</td>\n",
       "      <td>0</td>\n",
       "      <td>0</td>\n",
       "      <td>0</td>\n",
       "      <td>0</td>\n",
       "      <td>0</td>\n",
       "      <td>0</td>\n",
       "      <td>1</td>\n",
       "      <td>0</td>\n",
       "      <td>0</td>\n",
       "    </tr>\n",
       "    <tr>\n",
       "      <th>10014</th>\n",
       "      <td>0</td>\n",
       "      <td>2</td>\n",
       "      <td>0</td>\n",
       "      <td>2</td>\n",
       "      <td>0</td>\n",
       "      <td>1</td>\n",
       "      <td>0</td>\n",
       "      <td>0</td>\n",
       "      <td>0</td>\n",
       "      <td>0</td>\n",
       "      <td>...</td>\n",
       "      <td>0</td>\n",
       "      <td>0</td>\n",
       "      <td>0</td>\n",
       "      <td>0</td>\n",
       "      <td>0</td>\n",
       "      <td>0</td>\n",
       "      <td>0</td>\n",
       "      <td>0</td>\n",
       "      <td>0</td>\n",
       "      <td>0</td>\n",
       "    </tr>\n",
       "    <tr>\n",
       "      <th>10016</th>\n",
       "      <td>0</td>\n",
       "      <td>4</td>\n",
       "      <td>0</td>\n",
       "      <td>1</td>\n",
       "      <td>1</td>\n",
       "      <td>0</td>\n",
       "      <td>0</td>\n",
       "      <td>0</td>\n",
       "      <td>0</td>\n",
       "      <td>0</td>\n",
       "      <td>...</td>\n",
       "      <td>2</td>\n",
       "      <td>0</td>\n",
       "      <td>0</td>\n",
       "      <td>1</td>\n",
       "      <td>4</td>\n",
       "      <td>0</td>\n",
       "      <td>1</td>\n",
       "      <td>0</td>\n",
       "      <td>0</td>\n",
       "      <td>0</td>\n",
       "    </tr>\n",
       "    <tr>\n",
       "      <th>10017</th>\n",
       "      <td>0</td>\n",
       "      <td>3</td>\n",
       "      <td>0</td>\n",
       "      <td>0</td>\n",
       "      <td>0</td>\n",
       "      <td>0</td>\n",
       "      <td>0</td>\n",
       "      <td>0</td>\n",
       "      <td>0</td>\n",
       "      <td>0</td>\n",
       "      <td>...</td>\n",
       "      <td>1</td>\n",
       "      <td>0</td>\n",
       "      <td>0</td>\n",
       "      <td>0</td>\n",
       "      <td>2</td>\n",
       "      <td>0</td>\n",
       "      <td>1</td>\n",
       "      <td>0</td>\n",
       "      <td>0</td>\n",
       "      <td>0</td>\n",
       "    </tr>\n",
       "  </tbody>\n",
       "</table>\n",
       "<p>5 rows × 63 columns</p>\n",
       "</div>"
      ],
      "text/plain": [
       "          African Restaurant  American Restaurant  Arepa Restaurant  \\\n",
       "Postcode                                                              \n",
       "10012                      0                    1                 0   \n",
       "10013                      0                    4                 0   \n",
       "10014                      0                    2                 0   \n",
       "10016                      0                    4                 0   \n",
       "10017                      0                    3                 0   \n",
       "\n",
       "          Asian Restaurant  Australian Restaurant  Austrian Restaurant  \\\n",
       "Postcode                                                                 \n",
       "10012                    0                      1                    0   \n",
       "10013                    2                      1                    0   \n",
       "10014                    2                      0                    1   \n",
       "10016                    1                      1                    0   \n",
       "10017                    0                      0                    0   \n",
       "\n",
       "          Brazilian Restaurant  Cambodian Restaurant  Caribbean Restaurant  \\\n",
       "Postcode                                                                     \n",
       "10012                        0                     0                     1   \n",
       "10013                        0                     0                     0   \n",
       "10014                        0                     0                     0   \n",
       "10016                        0                     0                     0   \n",
       "10017                        0                     0                     0   \n",
       "\n",
       "          Chinese Restaurant          ...            Sushi Restaurant  \\\n",
       "Postcode                              ...                               \n",
       "10012                      0          ...                           2   \n",
       "10013                      1          ...                           3   \n",
       "10014                      0          ...                           0   \n",
       "10016                      0          ...                           2   \n",
       "10017                      0          ...                           1   \n",
       "\n",
       "          Szechuan Restaurant  Taiwanese Restaurant  Tapas Restaurant  \\\n",
       "Postcode                                                                \n",
       "10012                       0                     0                 1   \n",
       "10013                       0                     0                 0   \n",
       "10014                       0                     0                 0   \n",
       "10016                       0                     0                 1   \n",
       "10017                       0                     0                 0   \n",
       "\n",
       "          Thai Restaurant  Theme Restaurant  Turkish Restaurant  \\\n",
       "Postcode                                                          \n",
       "10012                   2                 0                   0   \n",
       "10013                   0                 0                   0   \n",
       "10014                   0                 0                   0   \n",
       "10016                   4                 0                   1   \n",
       "10017                   2                 0                   1   \n",
       "\n",
       "          Vegetarian / Vegan Restaurant  Venezuelan Restaurant  \\\n",
       "Postcode                                                         \n",
       "10012                                 0                      0   \n",
       "10013                                 1                      0   \n",
       "10014                                 0                      0   \n",
       "10016                                 0                      0   \n",
       "10017                                 0                      0   \n",
       "\n",
       "          Vietnamese Restaurant  \n",
       "Postcode                         \n",
       "10012                         1  \n",
       "10013                         0  \n",
       "10014                         0  \n",
       "10016                         0  \n",
       "10017                         0  \n",
       "\n",
       "[5 rows x 63 columns]"
      ]
     },
     "execution_count": 111,
     "metadata": {},
     "output_type": "execute_result"
    }
   ],
   "source": [
    "# one hot encoding\n",
    "df_onehot = pd.get_dummies(df_Restaurant[['Venue Category']], prefix=\"\", prefix_sep=\"\")\n",
    "\n",
    "# add neighborhood column back to dataframe\n",
    "df_onehot['Postcode'] = df_Restaurant['Postcode'] \n",
    "\n",
    "# move neighborhood column to the first column\n",
    "fixed_columns = [df_onehot.columns[-1]] + list(df_onehot.columns[:-1])\n",
    "df_onehot = df_onehot[fixed_columns]\n",
    "df_grouped = df_onehot.groupby('Postcode').sum()\n",
    "\n",
    "df_grouped.head()"
   ]
  },
  {
   "cell_type": "markdown",
   "metadata": {},
   "source": [
    "#### Principle component analysis (PCA) for distance calculation and hierarchical clustering "
   ]
  },
  {
   "cell_type": "code",
   "execution_count": 159,
   "metadata": {},
   "outputs": [
    {
     "data": {
      "text/plain": [
       "PCA(copy=True, iterated_power='auto', n_components=2, random_state=None,\n",
       "  svd_solver='auto', tol=0.0, whiten=False)"
      ]
     },
     "execution_count": 159,
     "metadata": {},
     "output_type": "execute_result"
    }
   ],
   "source": [
    "pca = PCA(n_components=2)\n",
    "pca.fit(df_grouped.T)   "
   ]
  },
  {
   "cell_type": "code",
   "execution_count": 255,
   "metadata": {},
   "outputs": [
    {
     "data": {
      "image/png": "[encoded data removed]",
      "text/plain": [
       "<matplotlib.figure.Figure at 0x1a3f718e48>"
      ]
     },
     "metadata": {},
     "output_type": "display_data"
    }
   ],
   "source": [
    "# Now build and cut the hierarchical tree to group zipcode regions where the restaraunt types are similar\n",
    "Threshhold = 0.16\n",
    "\n",
    "linked = linkage(pca.components_.T, 'average')\n",
    "labelList = list(df_grouped.index)\n",
    "group_list = cut_tree(linked,height=Threshhold)\n",
    "df_grouped['label'] =  group_list\n",
    "\n",
    "fig,ax = plt.subplots(figsize=(12, 5))  \n",
    "tree = dendrogram(linked,  \n",
    "            orientation='top',\n",
    "            get_leaves=True,    \n",
    "            distance_sort='descending',\n",
    "            show_leaf_counts=True,ax=ax,color_threshold=Threshhold)\n",
    "ax.set_xticklabels([labelList[x]for x in a['leaves']],rotation = 90) \n",
    "\n",
    "plt.show()  "
   ]
  },
  {
   "cell_type": "code",
   "execution_count": 265,
   "metadata": {},
   "outputs": [],
   "source": [
    "Restaurant_category  = df_grouped.groupby('label').sum().T\n",
    "Restaurant_kinds = len(set(Restaurant_category))\n",
    "Restaurant_category['sum'] = Restaurant_category.sum(axis = 1)"
   ]
  },
  {
   "cell_type": "code",
   "execution_count": 264,
   "metadata": {},
   "outputs": [
    {
     "data": {
      "image/png": "[encoded data removed]",
      "text/plain": [
       "<matplotlib.figure.Figure at 0x1a3ff23320>"
      ]
     },
     "metadata": {},
     "output_type": "display_data"
    }
   ],
   "source": [
    "fig,ax = plt.subplots(1,Restaurant_kinds,figsize = (Restaurant_kinds*4,4)) \n",
    "for i in range(Restaurant_kinds):\n",
    "    data = Restaurant_category.sort_values(i,ascending = False).head(5)[i]\n",
    "    ax[i].set_title('group '+str(i+1))\n",
    "    ax[i].barh(np.arange(len(data)),width = data,color = dict_color[i])\n",
    "    ax[i].set_yticks(np.arange(len(data)))\n",
    "    ax[i].set_yticklabels(list(data.index))\n",
    "fig.suptitle('New York',fontsize = 16)\n",
    "plt.tight_layout()"
   ]
  },
  {
   "cell_type": "code",
   "execution_count": 270,
   "metadata": {},
   "outputs": [],
   "source": [
    "# Filter out those locations that have no returned venues\n",
    "grouped_idx = df_grouped.index\n",
    "dict_color = {0:'blue',1:'red',2:'green',3:'purple',4:'orange'}\n",
    "\n",
    "map_city = folium.Map(location=[df_locations.loc[grouped_idx].Lat.mean(), df_locations.loc[grouped_idx].Lng.mean()], zoom_start=10,tiles = 'OpenStreetMap',width=600,height=600)\n",
    "\n",
    "for lat, lng, region, col, size in zip(df_locations.loc[grouped_idx]['Lat'], df_locations.loc[grouped_idx]['Lng'], df_locations.loc[grouped_idx].index,[dict_color[c] for c in  kmeans.labels_],df_grouped.sum(axis = 1)):\n",
    "    label = '{}'.format(region)\n",
    "    label = folium.Popup(label, parse_html=True)\n",
    "    folium.CircleMarker(\n",
    "        [lat, lng],\n",
    "        radius=size/2,\n",
    "        popup=label,\n",
    "        color='',\n",
    "        fill=True,\n",
    "        fill_color=col,\n",
    "        fill_opacity=0.5,\n",
    "        parse_html=True).add_to(map_city)  \n",
    "    \n",
    "map_city.save('NYC_final.html')"
   ]
  },
  {
   "cell_type": "code",
   "execution_count": 278,
   "metadata": {},
   "outputs": [
    {
     "data": {
      "text/html": [
       "\n",
       "        <iframe\n",
       "            width=\"600\"\n",
       "            height=\"600\"\n",
       "            src=\"NYC_final.html\"\n",
       "            frameborder=\"0\"\n",
       "            allowfullscreen\n",
       "        ></iframe>\n",
       "        "
      ],
      "text/plain": [
       "<IPython.lib.display.IFrame at 0x1a402a1748>"
      ]
     },
     "execution_count": 278,
     "metadata": {},
     "output_type": "execute_result"
    }
   ],
   "source": [
    "IFrame(src='NYC_final.html',height=600, width=600)"
   ]
  },
  {
   "cell_type": "markdown",
   "metadata": {},
   "source": [
    "##### Now you have a better idea about the city. If you want to go shopping, downtown has more stores; Latino food? Go north.\n"
   ]
  },
  {
   "cell_type": "code",
   "execution_count": null,
   "metadata": {},
   "outputs": [],
   "source": []
  }
 ],
 "metadata": {
  "kernelspec": {
   "display_name": "Python 3",
   "language": "python",
   "name": "python3"
  },
  "language_info": {
   "codemirror_mode": {
    "name": "ipython",
    "version": 3
   },
   "file_extension": ".py",
   "mimetype": "text/x-python",
   "name": "python",
   "nbconvert_exporter": "python",
   "pygments_lexer": "ipython3",
   "version": "3.6.4"
  }
 },
 "nbformat": 4,
 "nbformat_minor": 2
}
